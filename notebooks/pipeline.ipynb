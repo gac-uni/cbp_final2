{
 "cells": [
  {
   "cell_type": "markdown",
   "id": "7b51a314-e639-4a07-85f3-5984fe958015",
   "metadata": {},
   "source": [
    "# Pipeline - first"
   ]
  },
  {
   "cell_type": "markdown",
   "id": "6ee2d181-67e7-488e-b01b-1d92c271eb4b",
   "metadata": {},
   "source": [
    "* Concatenation of trajectories and check of phisical observables,\n",
    "* alignement,\n",
    "* RMSD, RMSF,\n",
    "    * We think that the active site cleft is MET20 (resid 9 to 24) it to be more stable with the ligand (meaning less RMSF)\n",
    "    * We also see a peak in RMSF around (resid 14 - 160) and we think this is connected via tertiary structure to MET20. We can use pyinteraph to explore that.\n",
    "* Radyus of Gyr\n",
    "    * We think that the cleft of the enzyme will stay closed with the drug.\n",
    " "
   ]
  },
  {
   "cell_type": "markdown",
   "id": "092de8ed-3a98-4ed0-81ad-a0e21a746f8e",
   "metadata": {},
   "source": [
    "## Additional tasks"
   ]
  },
  {
   "cell_type": "markdown",
   "id": "122cee11-59dd-4ef7-b672-8a97485849c1",
   "metadata": {},
   "source": [
    "* We can try to develop soft mode analysis\n",
    "* Full analysis with nadph"
   ]
  }
 ],
 "metadata": {
  "kernelspec": {
   "display_name": "Python 3 (ipykernel)",
   "language": "python",
   "name": "python3"
  },
  "language_info": {
   "codemirror_mode": {
    "name": "ipython",
    "version": 3
   },
   "file_extension": ".py",
   "mimetype": "text/x-python",
   "name": "python",
   "nbconvert_exporter": "python",
   "pygments_lexer": "ipython3",
   "version": "3.12.7"
  }
 },
 "nbformat": 4,
 "nbformat_minor": 5
}
