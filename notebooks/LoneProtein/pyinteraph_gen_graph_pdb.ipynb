{
 "cells": [
  {
   "cell_type": "code",
   "execution_count": 1,
   "id": "3392445f-75f5-4bc2-a118-53ad8eff5b34",
   "metadata": {},
   "outputs": [],
   "source": [
    "import pandas as pd\n",
    "import numpy as np\n",
    "import re"
   ]
  },
  {
   "cell_type": "code",
   "execution_count": 2,
   "id": "ef1dac7a-273b-4e71-a1e1-199bab2995ae",
   "metadata": {},
   "outputs": [],
   "source": [
    "def ATOM_pdb_line(atomid, x, y, z, b):\n",
    "    \"\"\"\n",
    "    atomid should already be a string-formatted integer < 10000\n",
    "    x, y, z should already be in the format of :.3f\n",
    "    b should already be in the format of :.2f \n",
    "    \"\"\"\n",
    "    end_atomid = 11\n",
    "    end_x = 38\n",
    "    end_y = 46\n",
    "    end_z = 54\n",
    "    end_b = 66\n",
    "\n",
    "    out = [\" \"]*80 \n",
    "    out.append(\"\\n\")\n",
    "    out[0:3] = \"ATOM\"\n",
    "    out[end_atomid - len(atomid): end_atomid] = atomid\n",
    "    out[end_x - len(x): end_x] = x\n",
    "    out[end_y - len(y): end_y] = y\n",
    "    out[end_z - len(z): end_z] = z\n",
    "    out[end_b - len(b): end_b] = b\n",
    "    \n",
    "    return ''.join(out) \n",
    "\n",
    "def CONECT_pdb_line(starting_atomid, connected_atomids):\n",
    "    \"\"\"\n",
    "    starting_atomid is the id of the atom from which connections start\n",
    "    connected atomids is a list of at most 4 atomid of atoms connected to the starting atom\n",
    "\n",
    "    it is allowed to have multiple CONECT lines for the same atom, if that atom is connected to more than 4 atoms\n",
    "    \"\"\"\n",
    "    end_starting_atomid = 11\n",
    "    end_connected_atomids = [16, 21, 26, 31]\n",
    "\n",
    "    out = [\" \"]*80 \n",
    "    out.append(\"\\n\")\n",
    "    out[0:5] = \"CONECT\"\n",
    "    out[end_starting_atomid - len(starting_atomid): end_starting_atomid] = starting_atomid\n",
    "    for end, idi in zip(end_connected_atomids, connected_atomids):\n",
    "        out[end - len(idi): end] = idi\n",
    "    \n",
    "    return ''.join(out) \n",
    "\n",
    "def CA_coordinates(pdb_path):\n",
    "    \"\"\"\n",
    "    Note that in the case that i have more than one CA in the same residue, then the first CA is considered\n",
    "    \"\"\"\n",
    "    \n",
    "    rexp = re.compile('^ATOM[ 0-9]{9}CA[ 0-9a-zA-Z]{8}([ 0-9]{4})[ 0-9a-zA-Z]{4}([-. 0-9]{8})([-. 0-9]{8})([-. 0-9]{8})')\n",
    "    \n",
    "    CA_coords = []\n",
    "    \n",
    "    with open(pdb_path, \"r\") as file:\n",
    "        current_res = None\n",
    "        for l in file.readlines(): \n",
    "            m = rexp.match(l) \n",
    "            if m:\n",
    "                if float(m.group(1)) != current_res:\n",
    "                    CA_coords.append([float(m.group(1)), float(m.group(2)), float(m.group(3)), float(m.group(4))])\n",
    "                    current_res = float(m.group(1))\n",
    "                \n",
    "    return CA_coords\n",
    "\n",
    "def get_connections(matrix_path, treshold = None): \n",
    "    matrix = np.loadtxt(matrix_path, delimiter = \" \")\n",
    "    nresids = np.shape(matrix)[0]\n",
    "    conn = []\n",
    "\n",
    "    if treshold == None:\n",
    "        treshold = 0.5\n",
    "    \n",
    "    for i in range(nresids):\n",
    "        single_res_connections = []\n",
    "        for j in range(nresids):\n",
    "            if np.abs(matrix[i, j]) >= treshold:\n",
    "                single_res_connections.append(j)\n",
    "        conn.append(single_res_connections)   \n",
    "    return conn"
   ]
  },
  {
   "cell_type": "code",
   "execution_count": 3,
   "id": "a83db3e1-d9ce-4200-b3d1-2da26735ec87",
   "metadata": {},
   "outputs": [],
   "source": [
    "path = \"/home/giacomo/comp_bio/cbp_final/data/03_analyzed/graphs/ccs.pdb\"\n",
    "matrix_path = \"/home/giacomo/comp_bio/cbp_final/data/03_analyzed/graphs/macro_IIN_unweighted.dat\"\n",
    "matrix_w_path = \"/home/giacomo/comp_bio/cbp_final/data/03_analyzed/graphs/macro_IIN_weighted.dat\"\n",
    "path_pdb = \"/home/giacomo/comp_bio/cbp_final/data/00_external/pdb_3EIG_prot.pdb\"\n",
    "\n",
    "path_graph_pdb = \"/home/giacomo/comp_bio/cbp_final/data/03_analyzed/graphs/manual_graph_giacomo.\""
   ]
  },
  {
   "cell_type": "code",
   "execution_count": 4,
   "id": "55f95973-15aa-4a31-9bc6-045a139d4941",
   "metadata": {},
   "outputs": [],
   "source": [
    "# get coordinater for each residue\n",
    "CA_coords = CA_coordinates(path_pdb)"
   ]
  },
  {
   "cell_type": "markdown",
   "id": "1eaeb776-3a7e-4fd8-a331-29639ff7cdeb",
   "metadata": {},
   "source": [
    "# Using the weighted matrix"
   ]
  },
  {
   "cell_type": "code",
   "execution_count": 5,
   "id": "237b18fe-1083-4f31-8ace-8c2f48ca680b",
   "metadata": {},
   "outputs": [],
   "source": [
    "conn_w = get_connections(matrix_w_path, 0.8)"
   ]
  },
  {
   "cell_type": "code",
   "execution_count": 6,
   "id": "40f23880-8f4a-4d74-b2ba-75d167be092b",
   "metadata": {},
   "outputs": [
    {
     "name": "stdout",
     "output_type": "stream",
     "text": [
      "[[], [], [], [96, 111, 113], [], [132], [33, 37], [8, 132], [7, 137], [13], [], [], [], [9], [], [], [], [], [], [], [], [], [], [141], [], [], [137, 176], [], [], [], [], [], [164], [6, 114], [], [], [133], [6, 112], [], [], [], [], [], [], [], [], [], [], [70, 72], [66], [74, 92, 111], [56], [], [78], [], [], [51, 64], [], [], [60], [59], [], [], [], [56], [71], [49], [], [], [], [48], [65], [48], [], [50, 119], [78], [], [], [53, 75, 88], [], [], [], [], [], [], [], [], [104], [78], [], [], [], [50, 113], [], [], [], [3], [], [], [108], [], [], [], [], [87], [], [], [], [99], [], [], [3, 50], [37], [3, 92, 120], [33], [], [], [], [], [74], [113], [], [123], [122], [132], [], [], [], [], [], [], [161], [5, 7, 124, 134], [36], [132], [137], [181], [8, 26, 135, 141, 174], [177], [], [], [23, 137, 174], [], [], [], [], [], [], [], [], [], [], [], [], [], [183], [], [181], [161], [], [], [131, 158], [], [], [32, 180], [169], [], [], [], [165], [], [], [], [], [137, 141], [], [26], [138], [], [], [164], [136, 157], [], [155], [], []]\n"
     ]
    }
   ],
   "source": [
    "print(conn_w)"
   ]
  },
  {
   "cell_type": "code",
   "execution_count": 7,
   "id": "b0447d48-5b53-4aa0-b5d0-6a0b3afa01b6",
   "metadata": {},
   "outputs": [],
   "source": [
    "with open(path_graph_pdb, \"w\") as file: \n",
    "    # first one line for each residue with at least 2 connections and the beta factor as the number of connections\n",
    "    for coords, con in zip(CA_coords, conn_w): \n",
    "        #if len(con) >= 2:\n",
    "        line = ATOM_pdb_line(f\"{int(coords[0]):d}\", f\"{coords[1]:.3f}\", f\"{coords[2]:.3f}\", f\"{coords[3]:.3f}\", f\"{len(con):.2f}\")\n",
    "        file.write(line)\n",
    "    # then connection lines\n",
    "    for i, con in enumerate(conn_w):\n",
    "        #if len(con) >= 2:\n",
    "        tocon = [f\"{j}\" for j in con]\n",
    "        line = CONECT_pdb_line(f\"{i+1}\", tocon)\n",
    "        file.write(line)\n",
    "    # in the end END\n",
    "    file.write(\"END\")"
   ]
  },
  {
   "cell_type": "code",
   "execution_count": null,
   "id": "c81ee53a-5a4a-414b-a30b-18a3573676a1",
   "metadata": {},
   "outputs": [],
   "source": []
  }
 ],
 "metadata": {
  "kernelspec": {
   "display_name": "Python 3 (ipykernel)",
   "language": "python",
   "name": "python3"
  },
  "language_info": {
   "codemirror_mode": {
    "name": "ipython",
    "version": 3
   },
   "file_extension": ".py",
   "mimetype": "text/x-python",
   "name": "python",
   "nbconvert_exporter": "python",
   "pygments_lexer": "ipython3",
   "version": "3.12.7"
  }
 },
 "nbformat": 4,
 "nbformat_minor": 5
}
