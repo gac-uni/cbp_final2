{
 "cells": [
  {
   "cell_type": "code",
   "execution_count": null,
   "metadata": {},
   "outputs": [],
   "source": [
    "path1 = \"C:/Users/39333/Desktop/Uni_QCB/Second_Year/First_Semester\\Proteomics\\Project\\proteinGroups_AHAlabelling.txt\"\n",
    "\n",
    "file_AHA = open()"
   ]
  }
 ],
 "metadata": {
  "language_info": {
   "name": "python"
  }
 },
 "nbformat": 4,
 "nbformat_minor": 2
}
