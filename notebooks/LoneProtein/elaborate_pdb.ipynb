{
 "cells": [
  {
   "cell_type": "code",
   "execution_count": 2,
   "id": "3392445f-75f5-4bc2-a118-53ad8eff5b34",
   "metadata": {},
   "outputs": [],
   "source": [
    "import pandas as pd\n",
    "import numpy as np\n",
    "import re"
   ]
  },
  {
   "cell_type": "code",
   "execution_count": 3,
   "id": "a83db3e1-d9ce-4200-b3d1-2da26735ec87",
   "metadata": {},
   "outputs": [],
   "source": [
    "path = \"/home/giacomo/comp_bio/cbp_final/data/03_analyzed/graphs/ccs.pdb\""
   ]
  },
  {
   "cell_type": "code",
   "execution_count": 4,
   "id": "b070e1f0-58d5-4abe-b309-aee79bd2f72d",
   "metadata": {},
   "outputs": [],
   "source": [
    "counter = 0\n",
    "df = pd.DataFrame()\n",
    "with open(path, \"r\") as file:\n",
    "    for line in file.readlines():\n",
    "        beta = line[61:66].strip()\n",
    "        if re.match('^[0-9]+\\.00', beta): \n",
    "            row = pd.DataFrame({'x': [float(line[31:38].strip())],\n",
    "                                'y': [float(line[39:46].strip())],\n",
    "                                'z': [float(line[47:54].strip())],\n",
    "                                'id': [int(beta.split(sep='.')[0])]\n",
    "                               })\n",
    "            df = pd.concat([df, row], ignore_index=True)\n",
    "            "
   ]
  },
  {
   "cell_type": "code",
   "execution_count": 5,
   "id": "6e64ec1c-82bf-4974-af94-27573588a9eb",
   "metadata": {},
   "outputs": [],
   "source": [
    "df_grouped = df.groupby(\"id\").mean()\n",
    "df_grouped\n",
    "df_count = df[[\"id\", \"x\"]].groupby(\"id\").count()\n",
    "df_count\n",
    "df_grouped[\"count\"] = df_count[\"x\"]"
   ]
  },
  {
   "cell_type": "code",
   "execution_count": 25,
   "id": "61793c0d-f037-4758-a608-95f73bea9d22",
   "metadata": {},
   "outputs": [],
   "source": [
    "with open(\"test.txt\", \"w\") as file:\n",
    "    for l in df_grouped.iterrows(): \n",
    "        stringa = \"\"\n",
    "        xstr = f\"{l[1][0]:.3f}\"\n",
    "        xlen = len(xstr)\n",
    "        ystr = f\"{l[1][1]:.3f}\"\n",
    "        ylen = len(ystr)\n",
    "        zstr = f\"{l[1][2]:.3f}\"\n",
    "        zlen = len(zstr)\n",
    "        beta = l[1][3] / 1500\n",
    "        num = f\"{beta:.2f}\"\n",
    "        numlen = len(num)\n",
    "        for i in range(80):\n",
    "            if i==0:\n",
    "                stringa = stringa + \"A\"\n",
    "            if i==1:\n",
    "                stringa = stringa + \"T\"\n",
    "            if i==2:\n",
    "                stringa = stringa + \"O\"\n",
    "            if i==3:\n",
    "                stringa = stringa + \"M\"\n",
    "                \n",
    "            if (i <= (37 - xlen)) and (i > 3): \n",
    "                stringa = stringa + \" \"\n",
    "            if (i > (37 - xlen)) and (i < (38)):\n",
    "                stringa = stringa + xstr[i - (38 - xlen)]\n",
    "                \n",
    "            if (i <= (46 - ylen)) and (i > 38): \n",
    "                stringa = stringa + \" \"\n",
    "            if (i > (45 - ylen)) and (i < (46)):\n",
    "                stringa = stringa + ystr[i - (46 - ylen)]\n",
    "            \n",
    "            if (i <= (54 - zlen)) and (i > 46): \n",
    "                stringa = stringa + \" \"\n",
    "            if (i > (53 - zlen)) and (i < (54)):\n",
    "                stringa = stringa + zstr[i - (54 - zlen)]\n",
    "                \n",
    "            if (i <= (66 - numlen)) and (i > 54): \n",
    "                stringa = stringa + \" \"\n",
    "            if (i > (65 - numlen)) and (i < (66)):\n",
    "                stringa = stringa + num[i - (66 - numlen)]\n",
    "        file.write(stringa + \"\\n\")\n",
    "        \n",
    "        "
   ]
  },
  {
   "cell_type": "code",
   "execution_count": null,
   "id": "cc38aa4e-6b81-4b97-a7dc-c3657b3600b9",
   "metadata": {},
   "outputs": [],
   "source": []
  }
 ],
 "metadata": {
  "kernelspec": {
   "display_name": "Python 3 (ipykernel)",
   "language": "python",
   "name": "python3"
  },
  "language_info": {
   "codemirror_mode": {
    "name": "ipython",
    "version": 3
   },
   "file_extension": ".py",
   "mimetype": "text/x-python",
   "name": "python",
   "nbconvert_exporter": "python",
   "pygments_lexer": "ipython3",
   "version": "3.7.12"
  }
 },
 "nbformat": 4,
 "nbformat_minor": 5
}
