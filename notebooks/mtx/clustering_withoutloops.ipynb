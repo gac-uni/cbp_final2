{
 "cells": [
  {
   "cell_type": "code",
   "execution_count": 2,
   "id": "f5d03991-4561-456d-8644-326d8bc19a75",
   "metadata": {},
   "outputs": [],
   "source": [
    "# Loading necessary modules.\n",
    "import numpy as np\n",
    "import matplotlib.pyplot as plt\n",
    "from pathlib import Path\n",
    "from os import fspath\n",
    "%matplotlib inline\n",
    "import seaborn as sns\n",
    "import math\n",
    "import pandas as pd\n",
    "import MDAnalysis as mda\n",
    "from MDAnalysis.analysis.align import AlignTraj\n",
    "from MDAnalysis.analysis.rms import RMSD, RMSF\n",
    "from MDAnalysis.analysis.pca import PCA, cosine_content\n",
    "from MDAnalysis.analysis import diffusionmap\n",
    "import pandas as pd\n",
    "\n",
    "from scipy.cluster.hierarchy import dendrogram, linkage, fcluster\n",
    "from scipy.spatial.distance import squareform\n",
    "\n",
    "from sklearn.cluster import HDBSCAN\n",
    "from sklearn.cluster import DBSCAN\n",
    "from sklearn.cluster import KMeans\n",
    "\n",
    "from sklearn import metrics\n",
    "from sklearn.metrics import pairwise_distances"
   ]
  },
  {
   "cell_type": "code",
   "execution_count": 3,
   "id": "255df72d-a4cd-45d2-af18-5952fccd827b",
   "metadata": {},
   "outputs": [],
   "source": [
    "data_path = \"../../data_3eig/02_processed/02_npt/\"\n",
    "sel = 'name CA'\n",
    "\n",
    "# config_file = data_path + \"step5_prod_0.tpr\"\n",
    "# concat_traj_file = data_path + \"prod_cat.xtc\"\n",
    "config_file = data_path + \"conf_noloops.pdb\"\n",
    "concat_traj_file = data_path + \"traj_noloops.xtc\"\n",
    "\n",
    "\n",
    "# sampled_traj_name = data_path + 'sampled_traj_each10.xtc'"
   ]
  },
  {
   "cell_type": "code",
   "execution_count": 4,
   "id": "e1ad88a0-159d-44a7-8d42-a8ac08c6f273",
   "metadata": {},
   "outputs": [],
   "source": [
    "# sampled_traj = mda.Universe(config_file, sampled_traj_name)\n",
    "# sampled_traj.trajectory.n_frames\n",
    "# sampled_ref_traj = mda.Universe(config_file, sampled_traj_name)\n",
    "# sampled_ref_traj.trajectory[-1]"
   ]
  },
  {
   "cell_type": "markdown",
   "id": "a2e6f3dc-f8ee-4fbe-ab95-b0fe2a21b626",
   "metadata": {},
   "source": [
    "# Dendrogram\n",
    "\n",
    "Clustering using the rmsd matrix (on the sampled trajectory) and the dendrogram, does not really work"
   ]
  },
  {
   "cell_type": "code",
   "execution_count": 5,
   "id": "f80b6d1e-cf6d-45bf-b5a0-25204cc74d5d",
   "metadata": {},
   "outputs": [],
   "source": [
    "# R = RMSD(sampled_traj, sampled_ref_traj, select=sel).run()\n",
    "# \n",
    "# plt.title(\"RMSD for the trajectry aligned (reduced number of frames) on the last frame\")\n",
    "# plt.plot(R.results.rmsd[:,2])\n",
    "# plt.xlabel('Time')\n",
    "# plt.ylabel('RMSD')"
   ]
  },
  {
   "cell_type": "code",
   "execution_count": 6,
   "id": "ad5c80db-8611-41c9-84a3-4747b499677a",
   "metadata": {},
   "outputs": [],
   "source": [
    "# matrix = diffusionmap.DistanceMatrix(sampled_traj, select=sel).run()"
   ]
  },
  {
   "cell_type": "code",
   "execution_count": 7,
   "id": "241a1d38-83e9-45ea-a1b2-ea7a74f11eb0",
   "metadata": {},
   "outputs": [],
   "source": [
    "# plt.imshow(matrix.results.dist_matrix, cmap='viridis')\n",
    "# plt.xlabel('Frame')\n",
    "# plt.ylabel('Frame')\n",
    "# plt.colorbar(label=r'RMSD ($\\AA$)')"
   ]
  },
  {
   "cell_type": "code",
   "execution_count": 8,
   "id": "d1e7d51c-9b22-47d7-9b93-e94946c3baa6",
   "metadata": {},
   "outputs": [],
   "source": [
    "# Z = linkage(squareform(matrix.results.dist_matrix), 'average')"
   ]
  },
  {
   "cell_type": "code",
   "execution_count": 9,
   "id": "725c8d95-1437-455d-8461-ff44a38fb415",
   "metadata": {},
   "outputs": [],
   "source": [
    "# fig = plt.figure(figsize=(25, 10))\n",
    "# dn = dendrogram(Z)"
   ]
  },
  {
   "cell_type": "code",
   "execution_count": 10,
   "id": "992e87f6-3f59-49a6-93e3-cf035be6299d",
   "metadata": {},
   "outputs": [],
   "source": [
    "# cl_labels = fcluster(Z, t=4, criterion='maxclust')"
   ]
  },
  {
   "cell_type": "code",
   "execution_count": 11,
   "id": "612d3dc0-8102-47b7-9854-ac0531f76eef",
   "metadata": {},
   "outputs": [],
   "source": [
    "# rmsd_arr = R.results.rmsd\n",
    "# plt.plot(rmsd_arr[cl_labels == 1][:, 1], rmsd_arr[cl_labels == 1][:, 2], '.')\n",
    "# plt.plot(rmsd_arr[cl_labels == 2][:, 1], rmsd_arr[cl_labels == 2][:, 2], '.')\n",
    "# plt.plot(rmsd_arr[cl_labels == 3][:, 1], rmsd_arr[cl_labels == 3][:, 2], '.')\n",
    "# plt.title(\"rmsd clustered\")\n",
    "# plt.show()"
   ]
  },
  {
   "cell_type": "markdown",
   "id": "930c4089-2f07-492d-afba-8283feee2f76",
   "metadata": {},
   "source": [
    "# Clustering using dbscan\n",
    "\n",
    "At first i am going to perform a pca, in order to reduce the dimensionality(it usually results in better clustering)"
   ]
  },
  {
   "cell_type": "code",
   "execution_count": 12,
   "id": "b9c16b27-de3d-43aa-b01c-e5bb03fc4c9f",
   "metadata": {},
   "outputs": [],
   "source": [
    "aligned_traj = mda.Universe(config_file, concat_traj_file) # taking the full traj"
   ]
  },
  {
   "cell_type": "code",
   "execution_count": 13,
   "id": "9f4687c6-2519-46f6-a17b-7b6b9ce95525",
   "metadata": {},
   "outputs": [
    {
     "data": {
      "text/plain": [
       "[<matplotlib.lines.Line2D at 0x78f1e025d4c0>]"
      ]
     },
     "execution_count": 13,
     "metadata": {},
     "output_type": "execute_result"
    },
    {
     "data": {
      "image/png": "[encoded data removed]",
      "text/plain": [
       "<Figure size 640x480 with 1 Axes>"
      ]
     },
     "metadata": {},
     "output_type": "display_data"
    }
   ],
   "source": [
    "pca = PCA(aligned_traj, select=sel)\n",
    "pca.run()\n",
    "\n",
    "plt.title('Cumulated Variance')\n",
    "plt.plot(pca.results.cumulated_variance)"
   ]
  },
  {
   "cell_type": "code",
   "execution_count": 14,
   "id": "52e08122-c5d0-4a3f-9cb1-424b7141d690",
   "metadata": {},
   "outputs": [],
   "source": [
    "# print([i for i in enumerate(pca.results.cumulated_variance)])"
   ]
  },
  {
   "cell_type": "code",
   "execution_count": 15,
   "id": "05391502-2400-4b19-8958-8a4c2e1bb153",
   "metadata": {},
   "outputs": [],
   "source": [
    "n_comp_90perc = 71"
   ]
  },
  {
   "cell_type": "markdown",
   "id": "b3f81287-66d7-4511-8785-eeb96d7c1366",
   "metadata": {},
   "source": [
    "## Looking at the 2 component case, just to check for parameters and so on"
   ]
  },
  {
   "cell_type": "code",
   "execution_count": 16,
   "id": "f79f5f02-d3c8-48bf-9e9f-6df8a245cf9f",
   "metadata": {},
   "outputs": [],
   "source": [
    "# pca_space_2 = pca.transform(aligned_traj.select_atoms(sel),2)"
   ]
  },
  {
   "cell_type": "code",
   "execution_count": 17,
   "id": "d46548bf-c2fc-4a02-84aa-d665108b92d5",
   "metadata": {},
   "outputs": [],
   "source": [
    "# def genscore(i, j):\n",
    "#     mcs = i + 2\n",
    "#     eps = j / 10 \n",
    "#     clust = HDBSCAN(min_cluster_size = mcs,\n",
    "#                 cluster_selection_epsilon = eps)\n",
    "#     labels = clust.fit_predict(pca_space_2)\n",
    "#     return metrics.silhouette_score(pca_space_2, labels, metric = 'euclidean')"
   ]
  },
  {
   "cell_type": "code",
   "execution_count": 18,
   "id": "1136b32e-a40a-4111-9f1c-f067ee6bc568",
   "metadata": {},
   "outputs": [],
   "source": [
    "# num = 20\n",
    "# sscore = np.zeros((num, num))\n",
    "# for i in range(num):\n",
    "#     for j in range(num):\n",
    "#         print(i,j)\n",
    "#         sscore[i,j] = genscore(i,j)"
   ]
  },
  {
   "cell_type": "code",
   "execution_count": 19,
   "id": "7afa29fa-d9cc-4448-98db-a2be7ad7cd31",
   "metadata": {},
   "outputs": [],
   "source": [
    "# plt.imshow(sscore, cmap='viridis')\n",
    "# plt.colorbar()"
   ]
  },
  {
   "cell_type": "code",
   "execution_count": 20,
   "id": "8604e506-bcfe-4f73-a1bb-4151134e7156",
   "metadata": {},
   "outputs": [],
   "source": [
    "# i want to keep the two big blobs separated\n",
    "# opt_mcs = 11\n",
    "# opt_eps = 0.5\n",
    "# clust = HDBSCAN(min_cluster_size = opt_mcs,\n",
    "#                 cluster_selection_epsilon = opt_eps)\n",
    "# labels = clust.fit_predict(pca_space_2)"
   ]
  },
  {
   "cell_type": "code",
   "execution_count": 21,
   "id": "8fbe1bb1-f46a-401c-9d7e-2a8f979612b6",
   "metadata": {},
   "outputs": [],
   "source": [
    "# plt.title(\"First two components of PCA\")\n",
    "# scatter = plt.scatter(pca_space_2[:, 0], pca_space_2[:, 1], c=labels)\n",
    "# plt.xlabel(\"component 1 [nm]\")\n",
    "# plt.ylabel(\"component 2 [nm]\")\n",
    "# plt.colorbar(scatter, label = 'Color Intensity')"
   ]
  },
  {
   "cell_type": "markdown",
   "id": "b7c2ea51-d778-4d20-867f-9efa4710ec45",
   "metadata": {},
   "source": [
    "# 10 components, capturing 60 % of the variance"
   ]
  },
  {
   "cell_type": "code",
   "execution_count": 22,
   "id": "aba4fa73-2ead-40b9-b9b8-9701cb15d5aa",
   "metadata": {},
   "outputs": [],
   "source": [
    "pca_space = pca.transform(aligned_traj.select_atoms(sel),6)"
   ]
  },
  {
   "cell_type": "code",
   "execution_count": 23,
   "id": "a4f451e5-740c-4d03-a076-ff901800a399",
   "metadata": {},
   "outputs": [],
   "source": [
    "def genscore(i, j):\n",
    "    mcs = i + 2\n",
    "    eps = j / 10 \n",
    "    clust = HDBSCAN(min_cluster_size = mcs,\n",
    "                cluster_selection_epsilon = eps)\n",
    "    # clust = KMeans(n_clusters = i + 2)\n",
    "    labels = clust.fit_predict(pca_space)\n",
    "    return metrics.silhouette_score(pca_space, labels, metric = 'euclidean')"
   ]
  },
  {
   "cell_type": "code",
   "execution_count": 24,
   "id": "8907ff1e-4417-44b2-82a8-e2ba1bd216ad",
   "metadata": {},
   "outputs": [
    {
     "name": "stdout",
     "output_type": "stream",
     "text": [
      "0 0\n",
      "0 1\n",
      "0 2\n",
      "0 3\n",
      "0 4\n",
      "0 5\n",
      "0 6\n",
      "0 7\n",
      "0 8\n",
      "0 9\n",
      "0 10\n",
      "0 11\n",
      "0 12\n",
      "0 13\n",
      "0 14\n",
      "0 15\n",
      "0 16\n",
      "0 17\n",
      "0 18\n",
      "0 19\n",
      "1 0\n",
      "1 1\n",
      "1 2\n",
      "1 3\n",
      "1 4\n",
      "1 5\n",
      "1 6\n",
      "1 7\n",
      "1 8\n",
      "1 9\n",
      "1 10\n",
      "1 11\n",
      "1 12\n",
      "1 13\n",
      "1 14\n",
      "1 15\n",
      "1 16\n",
      "1 17\n",
      "1 18\n",
      "1 19\n",
      "2 0\n",
      "2 1\n",
      "2 2\n",
      "2 3\n",
      "2 4\n",
      "2 5\n",
      "2 6\n",
      "2 7\n",
      "2 8\n",
      "2 9\n",
      "2 10\n",
      "2 11\n",
      "2 12\n",
      "2 13\n",
      "2 14\n",
      "2 15\n",
      "2 16\n",
      "2 17\n",
      "2 18\n",
      "2 19\n",
      "3 0\n",
      "3 1\n",
      "3 2\n",
      "3 3\n",
      "3 4\n",
      "3 5\n",
      "3 6\n",
      "3 7\n",
      "3 8\n",
      "3 9\n",
      "3 10\n",
      "3 11\n",
      "3 12\n",
      "3 13\n",
      "3 14\n",
      "3 15\n",
      "3 16\n",
      "3 17\n",
      "3 18\n",
      "3 19\n",
      "4 0\n",
      "4 1\n",
      "4 2\n",
      "4 3\n",
      "4 4\n",
      "4 5\n",
      "4 6\n",
      "4 7\n",
      "4 8\n",
      "4 9\n",
      "4 10\n",
      "4 11\n",
      "4 12\n",
      "4 13\n",
      "4 14\n",
      "4 15\n",
      "4 16\n",
      "4 17\n",
      "4 18\n",
      "4 19\n",
      "5 0\n",
      "5 1\n",
      "5 2\n",
      "5 3\n",
      "5 4\n",
      "5 5\n",
      "5 6\n",
      "5 7\n",
      "5 8\n",
      "5 9\n",
      "5 10\n",
      "5 11\n",
      "5 12\n",
      "5 13\n",
      "5 14\n",
      "5 15\n",
      "5 16\n",
      "5 17\n",
      "5 18\n",
      "5 19\n",
      "6 0\n",
      "6 1\n",
      "6 2\n",
      "6 3\n",
      "6 4\n",
      "6 5\n",
      "6 6\n",
      "6 7\n",
      "6 8\n",
      "6 9\n",
      "6 10\n",
      "6 11\n",
      "6 12\n",
      "6 13\n",
      "6 14\n",
      "6 15\n",
      "6 16\n",
      "6 17\n",
      "6 18\n",
      "6 19\n",
      "7 0\n",
      "7 1\n",
      "7 2\n",
      "7 3\n",
      "7 4\n",
      "7 5\n",
      "7 6\n",
      "7 7\n",
      "7 8\n",
      "7 9\n",
      "7 10\n",
      "7 11\n",
      "7 12\n",
      "7 13\n",
      "7 14\n",
      "7 15\n",
      "7 16\n",
      "7 17\n",
      "7 18\n",
      "7 19\n",
      "8 0\n",
      "8 1\n",
      "8 2\n",
      "8 3\n",
      "8 4\n",
      "8 5\n",
      "8 6\n",
      "8 7\n",
      "8 8\n",
      "8 9\n",
      "8 10\n",
      "8 11\n",
      "8 12\n",
      "8 13\n",
      "8 14\n",
      "8 15\n",
      "8 16\n",
      "8 17\n",
      "8 18\n",
      "8 19\n",
      "9 0\n",
      "9 1\n",
      "9 2\n",
      "9 3\n",
      "9 4\n",
      "9 5\n",
      "9 6\n",
      "9 7\n",
      "9 8\n",
      "9 9\n",
      "9 10\n",
      "9 11\n",
      "9 12\n",
      "9 13\n",
      "9 14\n",
      "9 15\n",
      "9 16\n",
      "9 17\n",
      "9 18\n",
      "9 19\n",
      "10 0\n",
      "10 1\n",
      "10 2\n",
      "10 3\n",
      "10 4\n",
      "10 5\n",
      "10 6\n",
      "10 7\n",
      "10 8\n",
      "10 9\n",
      "10 10\n",
      "10 11\n",
      "10 12\n",
      "10 13\n",
      "10 14\n",
      "10 15\n",
      "10 16\n",
      "10 17\n",
      "10 18\n",
      "10 19\n",
      "11 0\n",
      "11 1\n",
      "11 2\n",
      "11 3\n",
      "11 4\n",
      "11 5\n",
      "11 6\n",
      "11 7\n",
      "11 8\n",
      "11 9\n",
      "11 10\n",
      "11 11\n",
      "11 12\n",
      "11 13\n",
      "11 14\n",
      "11 15\n",
      "11 16\n",
      "11 17\n",
      "11 18\n",
      "11 19\n",
      "12 0\n",
      "12 1\n",
      "12 2\n",
      "12 3\n",
      "12 4\n",
      "12 5\n",
      "12 6\n",
      "12 7\n",
      "12 8\n",
      "12 9\n",
      "12 10\n",
      "12 11\n",
      "12 12\n",
      "12 13\n",
      "12 14\n",
      "12 15\n",
      "12 16\n",
      "12 17\n",
      "12 18\n",
      "12 19\n",
      "13 0\n",
      "13 1\n",
      "13 2\n",
      "13 3\n",
      "13 4\n",
      "13 5\n",
      "13 6\n",
      "13 7\n",
      "13 8\n",
      "13 9\n",
      "13 10\n",
      "13 11\n",
      "13 12\n",
      "13 13\n",
      "13 14\n",
      "13 15\n",
      "13 16\n",
      "13 17\n",
      "13 18\n",
      "13 19\n",
      "14 0\n",
      "14 1\n",
      "14 2\n",
      "14 3\n",
      "14 4\n",
      "14 5\n",
      "14 6\n",
      "14 7\n",
      "14 8\n",
      "14 9\n",
      "14 10\n",
      "14 11\n",
      "14 12\n",
      "14 13\n",
      "14 14\n",
      "14 15\n",
      "14 16\n",
      "14 17\n",
      "14 18\n",
      "14 19\n",
      "15 0\n",
      "15 1\n",
      "15 2\n",
      "15 3\n",
      "15 4\n",
      "15 5\n",
      "15 6\n",
      "15 7\n",
      "15 8\n",
      "15 9\n",
      "15 10\n",
      "15 11\n",
      "15 12\n",
      "15 13\n",
      "15 14\n",
      "15 15\n",
      "15 16\n",
      "15 17\n",
      "15 18\n",
      "15 19\n",
      "16 0\n",
      "16 1\n",
      "16 2\n",
      "16 3\n",
      "16 4\n",
      "16 5\n",
      "16 6\n",
      "16 7\n",
      "16 8\n",
      "16 9\n",
      "16 10\n",
      "16 11\n",
      "16 12\n",
      "16 13\n",
      "16 14\n",
      "16 15\n",
      "16 16\n",
      "16 17\n",
      "16 18\n",
      "16 19\n",
      "17 0\n",
      "17 1\n",
      "17 2\n",
      "17 3\n",
      "17 4\n",
      "17 5\n",
      "17 6\n",
      "17 7\n",
      "17 8\n",
      "17 9\n",
      "17 10\n",
      "17 11\n",
      "17 12\n",
      "17 13\n",
      "17 14\n",
      "17 15\n",
      "17 16\n",
      "17 17\n",
      "17 18\n",
      "17 19\n",
      "18 0\n",
      "18 1\n",
      "18 2\n",
      "18 3\n",
      "18 4\n",
      "18 5\n",
      "18 6\n",
      "18 7\n",
      "18 8\n",
      "18 9\n",
      "18 10\n",
      "18 11\n",
      "18 12\n",
      "18 13\n",
      "18 14\n",
      "18 15\n",
      "18 16\n",
      "18 17\n",
      "18 18\n",
      "18 19\n",
      "19 0\n",
      "19 1\n",
      "19 2\n",
      "19 3\n",
      "19 4\n",
      "19 5\n",
      "19 6\n",
      "19 7\n",
      "19 8\n",
      "19 9\n",
      "19 10\n",
      "19 11\n",
      "19 12\n",
      "19 13\n",
      "19 14\n",
      "19 15\n",
      "19 16\n",
      "19 17\n",
      "19 18\n",
      "19 19\n"
     ]
    }
   ],
   "source": [
    "num = 20\n",
    "sscore = np.zeros((num,num))\n",
    "for i in range(num):\n",
    "    for j in range(num):\n",
    "        print(i, j)\n",
    "        sscore[i,j] = genscore(i,j)"
   ]
  },
  {
   "cell_type": "code",
   "execution_count": 25,
   "id": "e69122e5-4b18-415b-b2cd-a57f98f34b62",
   "metadata": {},
   "outputs": [
    {
     "data": {
      "text/plain": [
       "<matplotlib.colorbar.Colorbar at 0x78f1683039b0>"
      ]
     },
     "execution_count": 25,
     "metadata": {},
     "output_type": "execute_result"
    },
    {
     "data": {
      "image/png": "[encoded data removed]",
      "text/plain": [
       "<Figure size 640x480 with 2 Axes>"
      ]
     },
     "metadata": {},
     "output_type": "display_data"
    }
   ],
   "source": [
    "plt.imshow(sscore, cmap='viridis')\n",
    "plt.colorbar()"
   ]
  },
  {
   "cell_type": "code",
   "execution_count": 29,
   "id": "0e8e5801-e817-44cd-b5ea-d3a2107d953c",
   "metadata": {},
   "outputs": [
    {
     "name": "stdout",
     "output_type": "stream",
     "text": [
      "[-1  0  1]\n"
     ]
    },
    {
     "data": {
      "text/plain": [
       "Text(0, 0.5, 'component 2 $[\\\\AA]$')"
      ]
     },
     "execution_count": 29,
     "metadata": {},
     "output_type": "execute_result"
    },
    {
     "data": {
      "image/png": "[encoded data removed]",
      "text/plain": [
       "<Figure size 640x480 with 1 Axes>"
      ]
     },
     "metadata": {},
     "output_type": "display_data"
    }
   ],
   "source": [
    "opt_mcs = 3\n",
    "opt_eps = 1.1\n",
    "clust = HDBSCAN(min_cluster_size = opt_mcs,\n",
    "                cluster_selection_epsilon = opt_eps)\n",
    "\n",
    "labels = clust.fit_predict(pca_space)\n",
    "print(np.unique(labels))\n",
    "title = r\"\"\"\n",
    "Clustering, visualized in a 2D reduced phase space,\n",
    "in absence of the unequilibrated loops.\n",
    "HDBSCAN algorithm, \n",
    "parameters: min_cluster_size = 3, cluster_selection_epsilon = 1.1\n",
    "\"\"\"\n",
    "plt.title(title)\n",
    "scatter = plt.scatter(pca_space[:, 0][labels==-1], pca_space[:, 1][labels==-1], color = \"black\", label = \"Noise\")\n",
    "scatter = plt.scatter(pca_space[:, 0][labels==0], pca_space[:, 1][labels==0])\n",
    "#scatter = plt.scatter(pca_space[:, 0][labels==1], pca_space[:, 1][labels==1])\n",
    "scatter = plt.scatter(pca_space[:, 0][labels==2], pca_space[:, 1][labels==2])\n",
    "plt.legend()\n",
    "plt.xlabel(r\"component 1 $[\\AA]$\")\n",
    "plt.ylabel(r\"component 2 $[\\AA]$\")"
   ]
  },
  {
   "cell_type": "code",
   "execution_count": 27,
   "id": "7e4379b5-9e03-41af-86cf-072f4acf73ae",
   "metadata": {},
   "outputs": [],
   "source": [
    "rmsd_file = \"/home/giacomo/comp_bio/cbp_final/data_3eig/03_analyzed/rmsd.csv\"\n",
    "rmsd = np.loadtxt(rmsd_file, delimiter = \",\", skiprows = 1)"
   ]
  },
  {
   "cell_type": "code",
   "execution_count": 28,
   "id": "575dbaac-c20c-42de-a61a-0e83e39928d2",
   "metadata": {},
   "outputs": [
    {
     "ename": "IndexError",
     "evalue": "boolean index did not match indexed array along dimension 0; dimension is 8609 but corresponding boolean dimension is 7608",
     "output_type": "error",
     "traceback": [
      "\u001b[0;31m---------------------------------------------------------------------------\u001b[0m",
      "\u001b[0;31mIndexError\u001b[0m                                Traceback (most recent call last)",
      "Cell \u001b[0;32mIn[28], line 1\u001b[0m\n\u001b[0;32m----> 1\u001b[0m plt\u001b[38;5;241m.\u001b[39mscatter(\u001b[43mrmsd\u001b[49m\u001b[43m[\u001b[49m\u001b[43m:\u001b[49m\u001b[43m,\u001b[49m\u001b[43m \u001b[49m\u001b[38;5;241;43m0\u001b[39;49m\u001b[43m]\u001b[49m\u001b[43m[\u001b[49m\u001b[43mlabels\u001b[49m\u001b[43m \u001b[49m\u001b[38;5;241;43m==\u001b[39;49m\u001b[43m \u001b[49m\u001b[38;5;241;43m-\u001b[39;49m\u001b[38;5;241;43m1\u001b[39;49m\u001b[43m]\u001b[49m \u001b[38;5;241m/\u001b[39m \u001b[38;5;241m10\u001b[39m, rmsd[:, \u001b[38;5;241m1\u001b[39m][labels \u001b[38;5;241m==\u001b[39m \u001b[38;5;241m-\u001b[39m\u001b[38;5;241m1\u001b[39m], color \u001b[38;5;241m=\u001b[39m \u001b[38;5;124m\"\u001b[39m\u001b[38;5;124mblack\u001b[39m\u001b[38;5;124m\"\u001b[39m, label \u001b[38;5;241m=\u001b[39m \u001b[38;5;124m\"\u001b[39m\u001b[38;5;124mNoise\u001b[39m\u001b[38;5;124m\"\u001b[39m)\n\u001b[1;32m      2\u001b[0m plt\u001b[38;5;241m.\u001b[39mscatter(rmsd[:, \u001b[38;5;241m0\u001b[39m][labels \u001b[38;5;241m==\u001b[39m \u001b[38;5;241m0\u001b[39m] \u001b[38;5;241m/\u001b[39m \u001b[38;5;241m10\u001b[39m, rmsd[:, \u001b[38;5;241m1\u001b[39m][labels \u001b[38;5;241m==\u001b[39m \u001b[38;5;241m0\u001b[39m])\n\u001b[1;32m      3\u001b[0m plt\u001b[38;5;241m.\u001b[39mscatter(rmsd[:, \u001b[38;5;241m0\u001b[39m][labels \u001b[38;5;241m==\u001b[39m \u001b[38;5;241m1\u001b[39m] \u001b[38;5;241m/\u001b[39m \u001b[38;5;241m10\u001b[39m, rmsd[:, \u001b[38;5;241m1\u001b[39m][labels \u001b[38;5;241m==\u001b[39m \u001b[38;5;241m1\u001b[39m])\n",
      "\u001b[0;31mIndexError\u001b[0m: boolean index did not match indexed array along dimension 0; dimension is 8609 but corresponding boolean dimension is 7608"
     ]
    }
   ],
   "source": [
    "plt.scatter(rmsd[:, 0][labels == -1] / 10, rmsd[:, 1][labels == -1], color = \"black\", label = \"Noise\")\n",
    "plt.scatter(rmsd[:, 0][labels == 0] / 10, rmsd[:, 1][labels == 0])\n",
    "plt.scatter(rmsd[:, 0][labels == 1] / 10, rmsd[:, 1][labels == 1])\n",
    "plt.scatter(rmsd[:, 0][labels == 2] / 10, rmsd[:, 1][labels == 2])\n",
    "title = r\"\"\"\n",
    "Clustering, visualized on the RMSD\n",
    "HDBSCAN algorithm, \n",
    "parameters: min_cluster_size = 4, cluster_selection_epsilon = 1.1,\n",
    "silhouette score $\\approx 0.05$ \n",
    "\"\"\"\n",
    "plt.xlabel(\"time [ns]\")\n",
    "plt.ylabel(r\"RMSD $[\\AA]$\")\n",
    "plt.title(title)"
   ]
  },
  {
   "cell_type": "code",
   "execution_count": null,
   "id": "487aeb53-ca9e-4565-b0cb-2e88eef4444a",
   "metadata": {},
   "outputs": [],
   "source": [
    "opt_mcs = 7\n",
    "opt_eps = 1.1\n",
    "clust = HDBSCAN(min_cluster_size = opt_mcs,\n",
    "                cluster_selection_epsilon = opt_eps)\n",
    "\n",
    "labels = clust.fit_predict(pca_space)\n",
    "print(np.unique(labels))\n",
    "title = r\"\"\"\n",
    "Clustering, visualized in a 2D reduced phase space\n",
    "HDBSCAN algorithm, \n",
    "parameters: min_cluster_size = 4, cluster_selection_epsilon = 1.1,\n",
    "silhouette score $\\approx 0.05$ \n",
    "\"\"\"\n",
    "plt.title(title)\n",
    "scatter = plt.scatter(pca_space[:, 0][labels==-1], pca_space[:, 1][labels==-1], color = \"black\", label = \"Noise\")\n",
    "scatter = plt.scatter(pca_space[:, 0][labels==0], pca_space[:, 1][labels==0])\n",
    "scatter = plt.scatter(pca_space[:, 0][labels==1], pca_space[:, 1][labels==1])\n",
    "scatter = plt.scatter(pca_space[:, 0][labels==2], pca_space[:, 1][labels==2])\n",
    "plt.legend()\n",
    "plt.xlabel(r\"component 1 $[\\AA]$\")\n",
    "plt.ylabel(r\"component 2 $[\\AA]$\")"
   ]
  },
  {
   "cell_type": "code",
   "execution_count": null,
   "id": "8873fa8f-fcc8-460e-b1b8-c05ac20fc856",
   "metadata": {},
   "outputs": [],
   "source": [
    "plt.scatter(rmsd[:, 0][labels == -1] / 10, rmsd[:, 1][labels == -1], color = \"black\", label = \"Noise\")\n",
    "plt.scatter(rmsd[:, 0][labels == 0] / 10, rmsd[:, 1][labels == 0])\n",
    "plt.scatter(rmsd[:, 0][labels == 1] / 10, rmsd[:, 1][labels == 1])\n",
    "plt.scatter(rmsd[:, 0][labels == 2] / 10, rmsd[:, 1][labels == 2])\n",
    "title = r\"\"\"\n",
    "Clustering, visualized on the RMSD\n",
    "HDBSCAN algorithm, \n",
    "parameters: min_cluster_size = 4, cluster_selection_epsilon = 1.1,\n",
    "silhouette score $\\approx 0.05$ \n",
    "\"\"\"\n",
    "plt.xlabel(\"time [ns]\")\n",
    "plt.ylabel(r\"RMSD $[\\AA]$\")\n",
    "plt.title(title)"
   ]
  },
  {
   "cell_type": "markdown",
   "id": "1f903426-0a68-4932-b245-3bfe2f742476",
   "metadata": {},
   "source": [
    "# I can look at the two different clusters"
   ]
  },
  {
   "cell_type": "raw",
   "id": "dc04acaf-26a6-4784-9bfe-acd03214a36e",
   "metadata": {},
   "source": [
    "first100_file = \"/home/giacomo/comp_bio/cbp_final/data_3eig/02_processed/02_npt/traj_first100ns.xtc\"\n",
    "from100_file = \"/home/giacomo/comp_bio/cbp_final/data_3eig/02_processed/02_npt/traj_from100ns.xtc\"\n",
    "last_file = \"/home/giacomo/comp_bio/cbp_final/data_3eig/02_processed/02_npt/traj_lastns.xtc\"\n",
    "first100_traj = mda.Universe(config_file, first100_file) # taking the full traj\n",
    "from100_traj = mda.Universe(config_file, from100_file) # taking the full traj\n",
    "last_traj = mda.Universe(config_file, last_file) # taking the full traj"
   ]
  },
  {
   "cell_type": "raw",
   "id": "b0245362-f59e-4f4f-9cac-8c8c8f0766ae",
   "metadata": {},
   "source": [
    "RF_first = RMSF(first100_traj.select_atoms(sel)).run()\n",
    "RF_from = RMSF(from100_traj.select_atoms(sel)).run()\n",
    "RF_last = RMSF(last_traj.select_atoms(sel)).run()\n",
    "\n",
    "\n",
    "# plt.title('RMSF of the trajectory aligned on the last frame, first100')\n",
    "# plt.plot(RF_first.results.rmsf)\n",
    "# plt.xlabel('Residue ID')\n",
    "# plt.ylabel('RMSF')\n",
    "# plt.show()\n",
    "# plt.title('RMSF of the trajectory aligned on the last frame, from100')\n",
    "# plt.plot(RF_from.results.rmsf)\n",
    "# plt.xlabel('Residue ID')\n",
    "# plt.ylabel('RMSF')\n",
    "# plt.show()\n",
    "# plt.title('RMSF of the trajectory aligned on the last frame, last')\n",
    "# plt.plot(RF_last.results.rmsf)\n",
    "# plt.xlabel('Residue ID')\n",
    "# plt.ylabel('RMSF')\n",
    "# plt.show()\n",
    "\n",
    "plt.title('RMSF of the two clusters found in the trajectory')\n",
    "# plt.plot(RF_first.results.rmsf, label = \"first\")\n",
    "plt.plot(RF_from.results.rmsf, label = \"0-525 ns\")\n",
    "plt.plot(RF_last.results.rmsf, label = \"525-562 ns\")\n",
    "plt.legend()\n",
    "plt.xlabel('Residue ID')\n",
    "plt.ylabel(r'RMSF $[\\AA]$')\n",
    "plt.show()"
   ]
  },
  {
   "cell_type": "code",
   "execution_count": null,
   "id": "07efbb00-4f9a-48d6-81d5-254fcddbc8df",
   "metadata": {},
   "outputs": [],
   "source": []
  }
 ],
 "metadata": {
  "kernelspec": {
   "display_name": "Python 3 (ipykernel)",
   "language": "python",
   "name": "python3"
  },
  "language_info": {
   "codemirror_mode": {
    "name": "ipython",
    "version": 3
   },
   "file_extension": ".py",
   "mimetype": "text/x-python",
   "name": "python",
   "nbconvert_exporter": "python",
   "pygments_lexer": "ipython3",
   "version": "3.12.7"
  }
 },
 "nbformat": 4,
 "nbformat_minor": 5
}
