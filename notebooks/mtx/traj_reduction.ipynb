{
 "cells": [
  {
   "cell_type": "code",
   "execution_count": null,
   "id": "ec2f3f93-d8ee-4826-a460-c73edb38a94d",
   "metadata": {},
   "outputs": [],
   "source": [
    "# Loading necessary modules.\n",
    "import numpy as np\n",
    "import matplotlib.pyplot as plt\n",
    "from pathlib import Path\n",
    "from os import fspath\n",
    "%matplotlib inline\n",
    "import seaborn as sns\n",
    "import math\n",
    "import pandas as pd\n",
    "import MDAnalysis as mda\n",
    "from MDAnalysis.analysis.align import AlignTraj\n",
    "from MDAnalysis.analysis.rms import RMSD, RMSF\n",
    "from MDAnalysis.analysis.pca import PCA, cosine_content\n",
    "from MDAnalysis.analysis import diffusionmap\n",
    "import pandas as pd\n",
    "\n",
    "from scipy.cluster.hierarchy import dendrogram, linkage, fcluster\n",
    "from scipy.spatial.distance import squareform"
   ]
  },
  {
   "cell_type": "code",
   "execution_count": null,
   "id": "3b77f3c7-3ca2-43f6-b8b6-009f495c2c65",
   "metadata": {},
   "outputs": [],
   "source": [
    "sampled_traj_name = data_path + 'sampled_traj_each10.xtc'\n",
    "\n",
    "with mda.Writer(sampled_traj_name, n_atoms=aligned_traj.atoms.n_atoms) as w:\n",
    "    for ts in aligned_traj.trajectory[::2]:\n",
    "        w.write(aligned_traj.atoms)"
   ]
  }
 ],
 "metadata": {
  "kernelspec": {
   "display_name": "Python 3 (ipykernel)",
   "language": "python",
   "name": "python3"
  },
  "language_info": {
   "codemirror_mode": {
    "name": "ipython",
    "version": 3
   },
   "file_extension": ".py",
   "mimetype": "text/x-python",
   "name": "python",
   "nbconvert_exporter": "python",
   "pygments_lexer": "ipython3",
   "version": "3.12.7"
  }
 },
 "nbformat": 4,
 "nbformat_minor": 5
}
