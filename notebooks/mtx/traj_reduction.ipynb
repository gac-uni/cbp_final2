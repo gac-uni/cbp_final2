{
 "cells": [
  {
   "cell_type": "code",
   "execution_count": 1,
   "id": "ec2f3f93-d8ee-4826-a460-c73edb38a94d",
   "metadata": {},
   "outputs": [
    {
     "name": "stderr",
     "output_type": "stream",
     "text": [
      "/home/giacomo/micromamba/envs/QCB/lib/python3.12/site-packages/Bio/Application/__init__.py:39: BiopythonDeprecationWarning: The Bio.Application modules and modules relying on it have been deprecated.\n",
      "\n",
      "Due to the on going maintenance burden of keeping command line application\n",
      "wrappers up to date, we have decided to deprecate and eventually remove these\n",
      "modules.\n",
      "\n",
      "We instead now recommend building your command line and invoking it directly\n",
      "with the subprocess module.\n",
      "  warnings.warn(\n"
     ]
    }
   ],
   "source": [
    "# Loading necessary modules.\n",
    "import numpy as np\n",
    "import matplotlib.pyplot as plt\n",
    "from pathlib import Path\n",
    "from os import fspath\n",
    "%matplotlib inline\n",
    "import seaborn as sns\n",
    "import math\n",
    "import pandas as pd\n",
    "import MDAnalysis as mda\n",
    "from MDAnalysis.analysis.align import AlignTraj\n",
    "from MDAnalysis.analysis.rms import RMSD, RMSF\n",
    "from MDAnalysis.analysis.pca import PCA, cosine_content\n",
    "from MDAnalysis.analysis import diffusionmap\n",
    "import pandas as pd\n",
    "\n",
    "from scipy.cluster.hierarchy import dendrogram, linkage, fcluster\n",
    "from scipy.spatial.distance import squareform"
   ]
  },
  {
   "cell_type": "code",
   "execution_count": 2,
   "id": "f23147a1-b609-47ad-beae-70f36a9151a8",
   "metadata": {},
   "outputs": [],
   "source": [
    "data_path = \"../../data_3eig/02_processed/02_npt/\"\n",
    "sel = 'name CA'\n",
    "\n",
    "config_file = data_path + \"step5_prod_0.tpr\"\n",
    "concat_traj_file = data_path + \"prod_cat.xtc\""
   ]
  },
  {
   "cell_type": "code",
   "execution_count": 3,
   "id": "d3b732bd-94c0-4601-b3fb-9c1c7803ce0e",
   "metadata": {},
   "outputs": [],
   "source": [
    "aligned_traj = mda.Universe(config_file, concat_traj_file)"
   ]
  },
  {
   "cell_type": "code",
   "execution_count": 4,
   "id": "3b77f3c7-3ca2-43f6-b8b6-009f495c2c65",
   "metadata": {},
   "outputs": [],
   "source": [
    "sampled_traj_name = data_path + 'sampled_traj_each10.xtc'\n",
    "\n",
    "with mda.Writer(sampled_traj_name, n_atoms=aligned_traj.atoms.n_atoms) as w:\n",
    "    for ts in aligned_traj.trajectory[::10]:\n",
    "        w.write(aligned_traj.atoms)"
   ]
  },
  {
   "cell_type": "markdown",
   "id": "27e69d5f-b13a-4fd1-9bdd-e0952a19226a",
   "metadata": {},
   "source": [
    "# Separating the trajectory at the first 100 ns\n",
    "Decision informed by the clustering done in clustering.ipynb"
   ]
  },
  {
   "cell_type": "code",
   "execution_count": 5,
   "id": "356c55e1-4654-4720-83d9-94560d2e43c8",
   "metadata": {},
   "outputs": [],
   "source": [
    "first100_traj_name = data_path + 'traj_first100ns.xtc'\n",
    "\n",
    "with mda.Writer(first100_traj_name, n_atoms=aligned_traj.atoms.n_atoms) as w:\n",
    "    for ts in aligned_traj.trajectory[:1000]:\n",
    "        w.write(aligned_traj.atoms)"
   ]
  },
  {
   "cell_type": "code",
   "execution_count": 6,
   "id": "5dc1dd52-521c-4146-a8ab-d96e4e8a8a0e",
   "metadata": {},
   "outputs": [],
   "source": [
    "from100_traj_name = data_path + 'traj_from100ns.xtc'\n",
    "\n",
    "with mda.Writer(from100_traj_name, n_atoms=aligned_traj.atoms.n_atoms) as w:\n",
    "    for ts in aligned_traj.trajectory[1000:]:\n",
    "        w.write(aligned_traj.atoms)"
   ]
  },
  {
   "cell_type": "code",
   "execution_count": null,
   "id": "dc83bbf5-2f88-479e-880b-149102a6e0a5",
   "metadata": {},
   "outputs": [],
   "source": []
  }
 ],
 "metadata": {
  "kernelspec": {
   "display_name": "Python 3 (ipykernel)",
   "language": "python",
   "name": "python3"
  },
  "language_info": {
   "codemirror_mode": {
    "name": "ipython",
    "version": 3
   },
   "file_extension": ".py",
   "mimetype": "text/x-python",
   "name": "python",
   "nbconvert_exporter": "python",
   "pygments_lexer": "ipython3",
   "version": "3.12.7"
  }
 },
 "nbformat": 4,
 "nbformat_minor": 5
}
