{
 "cells": [
  {
   "cell_type": "code",
   "execution_count": null,
   "id": "f5d03991-4561-456d-8644-326d8bc19a75",
   "metadata": {},
   "outputs": [],
   "source": [
    "# Loading necessary modules.\n",
    "import numpy as np\n",
    "import matplotlib.pyplot as plt\n",
    "from pathlib import Path\n",
    "from os import fspath\n",
    "%matplotlib inline\n",
    "import seaborn as sns\n",
    "import math\n",
    "import pandas as pd\n",
    "import MDAnalysis as mda\n",
    "from MDAnalysis.analysis.align import AlignTraj\n",
    "from MDAnalysis.analysis.rms import RMSD, RMSF\n",
    "from MDAnalysis.analysis.pca import PCA, cosine_content\n",
    "from MDAnalysis.analysis import diffusionmap\n",
    "import pandas as pd\n",
    "\n",
    "from scipy.cluster.hierarchy import dendrogram, linkage, fcluster\n",
    "from scipy.spatial.distance import squareform"
   ]
  },
  {
   "cell_type": "code",
   "execution_count": null,
   "id": "255df72d-a4cd-45d2-af18-5952fccd827b",
   "metadata": {},
   "outputs": [],
   "source": [
    "sampled_traj_name = data_path + 'sampled_traj_each10.xtc'"
   ]
  },
  {
   "cell_type": "code",
   "execution_count": null,
   "id": "e1ad88a0-159d-44a7-8d42-a8ac08c6f273",
   "metadata": {},
   "outputs": [],
   "source": [
    "sampled_traj = mda.Universe(config_file, sampled_traj_name)\n",
    "sampled_traj.trajectory.n_frames\n",
    "sampled_ref_traj = mda.Universe(config_file, sampled_traj_name)\n",
    "sampled_ref_traj.trajectory[-1]"
   ]
  },
  {
   "cell_type": "code",
   "execution_count": null,
   "id": "f80b6d1e-cf6d-45bf-b5a0-25204cc74d5d",
   "metadata": {},
   "outputs": [],
   "source": [
    "R = RMSD(sampled_traj, sampled_ref_traj, select=sel).run()\n",
    "\n",
    "plt.title(\"RMSD for the trajectry aligned (reduced number of frames) on the last frame\")\n",
    "plt.plot(R.results.rmsd[:,2])\n",
    "plt.xlabel('Time')\n",
    "plt.ylabel('RMSD')"
   ]
  },
  {
   "cell_type": "code",
   "execution_count": null,
   "id": "ad5c80db-8611-41c9-84a3-4747b499677a",
   "metadata": {},
   "outputs": [],
   "source": [
    "matrix = diffusionmap.DistanceMatrix(sampled_traj, select=sel).run()"
   ]
  },
  {
   "cell_type": "code",
   "execution_count": null,
   "id": "241a1d38-83e9-45ea-a1b2-ea7a74f11eb0",
   "metadata": {},
   "outputs": [],
   "source": [
    "plt.imshow(matrix.results.dist_matrix, cmap='viridis')\n",
    "plt.xlabel('Frame')\n",
    "plt.ylabel('Frame')\n",
    "plt.colorbar(label=r'RMSD ($\\AA$)')"
   ]
  },
  {
   "cell_type": "code",
   "execution_count": null,
   "id": "d1e7d51c-9b22-47d7-9b93-e94946c3baa6",
   "metadata": {},
   "outputs": [],
   "source": [
    "Z = linkage(squareform(matrix.results.dist_matrix), 'average')"
   ]
  },
  {
   "cell_type": "code",
   "execution_count": null,
   "id": "725c8d95-1437-455d-8461-ff44a38fb415",
   "metadata": {},
   "outputs": [],
   "source": [
    "fig = plt.figure(figsize=(25, 10))\n",
    "dn = dendrogram(Z)"
   ]
  },
  {
   "cell_type": "code",
   "execution_count": null,
   "id": "992e87f6-3f59-49a6-93e3-cf035be6299d",
   "metadata": {},
   "outputs": [],
   "source": [
    "cl_labels = fcluster(Z, t=4, criterion='maxclust')"
   ]
  },
  {
   "cell_type": "code",
   "execution_count": null,
   "id": "612d3dc0-8102-47b7-9854-ac0531f76eef",
   "metadata": {},
   "outputs": [],
   "source": [
    "rmsd_arr = R.results.rmsd\n",
    "plt.plot(rmsd_arr[cl_labels == 1][:, 1], rmsd_arr[cl_labels == 1][:, 2], '.')\n",
    "plt.plot(rmsd_arr[cl_labels == 2][:, 1], rmsd_arr[cl_labels == 2][:, 2], '.')\n",
    "plt.plot(rmsd_arr[cl_labels == 3][:, 1], rmsd_arr[cl_labels == 3][:, 2], '.')\n",
    "plt.title(\"rmsd clustered\")\n",
    "plt.show()"
   ]
  }
 ],
 "metadata": {
  "kernelspec": {
   "display_name": "Python 3 (ipykernel)",
   "language": "python",
   "name": "python3"
  },
  "language_info": {
   "codemirror_mode": {
    "name": "ipython",
    "version": 3
   },
   "file_extension": ".py",
   "mimetype": "text/x-python",
   "name": "python",
   "nbconvert_exporter": "python",
   "pygments_lexer": "ipython3",
   "version": "3.12.7"
  }
 },
 "nbformat": 4,
 "nbformat_minor": 5
}
