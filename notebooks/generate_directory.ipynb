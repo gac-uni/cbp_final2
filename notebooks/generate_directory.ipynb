{
 "cells": [
  {
   "cell_type": "code",
   "execution_count": 6,
   "id": "d968bb09-64f8-42f6-9b52-f71d36a5253f",
   "metadata": {},
   "outputs": [],
   "source": [
    "import sys\n",
    "sys.path.insert(0, \"../src/tools/pbs_templates\")\n",
    "import os\n",
    "from genTemplate import genTemplate"
   ]
  },
  {
   "cell_type": "markdown",
   "id": "a7427191-6d9d-4cfc-8813-5d9de7792a03",
   "metadata": {},
   "source": [
    "# Directory generation\n",
    "Starting from another directory, we generate a local directory that will be loaded to cluster"
   ]
  },
  {
   "cell_type": "code",
   "execution_count": null,
   "id": "d2d10f20-6fb7-413f-a3e7-32427e848d90",
   "metadata": {},
   "outputs": [],
   "source": [
    "common_path = \"../data/01_raw/\"\n",
    "new_dir = common_path + \"CP_npt_cluster_30c\"\n",
    "parent_dir = common_path + \"01_NVT/CP_nvt\"\n",
    "\n",
    "os.system(f\"cp -r {parent_dir} {new_dir}\")"
   ]
  },
  {
   "cell_type": "markdown",
   "id": "a215ff1e-e060-481b-bce5-2b88e7d578d9",
   "metadata": {},
   "source": [
    "# .pbs file generation\n",
    "We add into the newly created directory the .pbs file"
   ]
  },
  {
   "cell_type": "code",
   "execution_count": 2,
   "id": "a7f94b8f-601c-4a2e-8cee-f5a7c5cc0368",
   "metadata": {},
   "outputs": [],
   "source": [
    "all_dicts = {\n",
    "\"pbs_parameters\": {\n",
    "    \"number_cpu\": \"25\",\n",
    "    \"number_mpiprocs\": \"1\",\n",
    "    \"memory_GB\": \"10\",\n",
    "    \"walltime_hhmmss\": \"00:30:00\",\n",
    "    \"queue\": \"short_cpuQ\",\n",
    "    \"job_name\": \"GM_lysozyme\",\n",
    "    \"job_out_name\": \"GM_lysozyme_o\",\n",
    "    \"job_err_name\": \"GM_lysozyme_e\",\n",
    "    \"number_threads\": \"1\",\n",
    "    \"gmx_walltime\": \"0.2\"\n",
    "},\n",
    "\"gmx_grompp\": {\n",
    "    \"f_mdp\": \"npt.mdp\",\n",
    "    \"f_conf\": \"nvt.gro\",\n",
    "    \"f_restr\": \"nvt.gro\",\n",
    "    \"f_topol\": \"topol.top\",\n",
    "    \"f_index\": \"-n index.ndx\",\n",
    "    \"f_checkpoint\": \"-t nvt.cpt\",\n",
    "    \"f_out\": \"npt.tpr\"\n",
    "},\n",
    "\"gmx_mdrun\": {\"deffnm\": \"npt\"}\n",
    "}\n",
    "\n",
    "template_name = \"t00_pbs.pbs\"\n",
    "full_name_out = new_dir + \"/npt.pbs\"\n",
    "\n",
    "genTemplate(template_name, full_name_out, all_dicts)"
   ]
  }
 ],
 "metadata": {
  "kernelspec": {
   "display_name": "Python 3 (ipykernel)",
   "language": "python",
   "name": "python3"
  },
  "language_info": {
   "codemirror_mode": {
    "name": "ipython",
    "version": 3
   },
   "file_extension": ".py",
   "mimetype": "text/x-python",
   "name": "python",
   "nbconvert_exporter": "python",
   "pygments_lexer": "ipython3",
   "version": "3.12.7"
  }
 },
 "nbformat": 4,
 "nbformat_minor": 5
}
