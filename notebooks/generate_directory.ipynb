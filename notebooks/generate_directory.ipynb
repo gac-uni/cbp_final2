{
 "cells": [
  {
   "cell_type": "code",
   "execution_count": 1,
   "id": "d968bb09-64f8-42f6-9b52-f71d36a5253f",
   "metadata": {},
   "outputs": [],
   "source": [
    "import sys\n",
    "sys.path.insert(0, \"../src/tools/pbs_templates\")\n",
    "import os\n",
    "from genTemplate import genTemplate"
   ]
  },
  {
   "cell_type": "markdown",
   "id": "a7427191-6d9d-4cfc-8813-5d9de7792a03",
   "metadata": {},
   "source": [
    "# Directory generation\n",
    "Starting from another directory, we generate a local directory that will be loaded to cluster"
   ]
  },
  {
   "cell_type": "code",
   "execution_count": 6,
   "id": "08098bb2-cee9-4b54-a2a0-899d0fce6d4d",
   "metadata": {},
   "outputs": [],
   "source": [
    "common_path = \"../data/01_raw/02_NPT/\"\n",
    "new_dir = common_path + \"03_npt_3\"\n",
    "parent_dir = common_path + \"02_npt_2\"\n",
    "index_file = \"index\"\n",
    "prev_run_files = \"step5_prod_2\"\n",
    "current_run_files = \"step5_prod_3\"\n",
    "mdp_file = \"step5_production\"\n",
    "\n",
    "all_dicts = {\n",
    "\"pbs_parameters\": {\n",
    "    \"number_cpu\": \"45\",\n",
    "    \"number_mpiprocs\": \"45\",\n",
    "    \"memory_GB\": \"30\",\n",
    "    \"walltime_hhmmss\": \"06:00:00\",\n",
    "    \"queue\": \"short_cpuQ\",\n",
    "    \"job_name\": \"GM_hdpr\",\n",
    "    \"job_out_name\": \"GM_hdpr_o\",\n",
    "    \"job_err_name\": \"GM_hdpr_e\",\n",
    "    \"number_threads\": \"1\"\n",
    "},\n",
    "\"gmx_grompp\": {\n",
    "    \"f_mdp\": f\"{mdp_file}.mdp\",\n",
    "    \"f_conf\": f\"{prev_run_files}.gro\",\n",
    "    \"f_topol\": \"topol.top\",\n",
    "    \"f_restr\": \"\",\n",
    "    \"f_index\": f\"-n {index_file}.ndx\",\n",
    "    \"f_checkpoint\": f\"-t {prev_run_files}.cpt\",\n",
    "    \"f_out\": f\"{current_run_files}.tpr\"\n",
    "},\n",
    "\"gmx_mdrun\": {\n",
    "    \"deffnm\": current_run_files,\n",
    "    \"gmx_walltime\": \"5.9\"\n",
    "}\n",
    "}\n",
    "\n",
    "template_name = \"t00_pbs.pbs\"\n",
    "full_name_out = new_dir + \"/npt.pbs\""
   ]
  },
  {
   "cell_type": "code",
   "execution_count": 4,
   "id": "d2d10f20-6fb7-413f-a3e7-32427e848d90",
   "metadata": {},
   "outputs": [
    {
     "name": "stderr",
     "output_type": "stream",
     "text": [
      "mkdir: impossibile creare la directory \"../data/01_raw/02_NPT/03_npt_3\": File già esistente\n"
     ]
    },
    {
     "data": {
      "text/plain": [
       "0"
      ]
     },
     "execution_count": 4,
     "metadata": {},
     "output_type": "execute_result"
    }
   ],
   "source": [
    "# os.system(f\"cp -r {parent_dir} {new_dir}\")\n",
    "os.system(f\"mkdir {new_dir}\") # making dir\n",
    "os.system(f\"cp {parent_dir}/topol.top {new_dir}/topol.top\") # topology file\n",
    "os.system(f\"cp -r {parent_dir}/toppar/ {new_dir}/toppar/\") # topology directory\n",
    "os.system(f\"cp {parent_dir}/{index_file}.ndx {new_dir}/{index_file}.ndx\") # index file\n",
    "os.system(f\"cp {parent_dir}/{prev_run_files}.cpt {new_dir}/{prev_run_files}.cpt\") # checkpoint file\n",
    "os.system(f\"cp {parent_dir}/{prev_run_files}.gro {new_dir}/{prev_run_files}.gro\") # starting config file\n",
    "os.system(f\"cp {parent_dir}/{mdp_file}.mdp {new_dir}/{mdp_file}.mdp\") # mdp file, assuming it is located in the parent dir"
   ]
  },
  {
   "cell_type": "markdown",
   "id": "a215ff1e-e060-481b-bce5-2b88e7d578d9",
   "metadata": {},
   "source": [
    "# .pbs file generation\n",
    "We add into the newly created directory the .pbs file"
   ]
  },
  {
   "cell_type": "code",
   "execution_count": 7,
   "id": "a7f94b8f-601c-4a2e-8cee-f5a7c5cc0368",
   "metadata": {},
   "outputs": [],
   "source": [
    "genTemplate(template_name, full_name_out, all_dicts)"
   ]
  },
  {
   "cell_type": "code",
   "execution_count": null,
   "id": "ea651050-8dcc-45e3-a35e-448dbb2f8372",
   "metadata": {},
   "outputs": [],
   "source": []
  }
 ],
 "metadata": {
  "kernelspec": {
   "display_name": "Python 3 (ipykernel)",
   "language": "python",
   "name": "python3"
  },
  "language_info": {
   "codemirror_mode": {
    "name": "ipython",
    "version": 3
   },
   "file_extension": ".py",
   "mimetype": "text/x-python",
   "name": "python",
   "nbconvert_exporter": "python",
   "pygments_lexer": "ipython3",
   "version": "3.12.7"
  }
 },
 "nbformat": 4,
 "nbformat_minor": 5
}
